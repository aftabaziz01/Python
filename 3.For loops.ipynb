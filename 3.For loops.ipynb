{
 "cells": [
  {
   "cell_type": "markdown",
   "id": "ac30b967",
   "metadata": {},
   "source": [
    "## Printing Multiple of 3"
   ]
  },
  {
   "cell_type": "code",
   "execution_count": 2,
   "id": "3901c999",
   "metadata": {},
   "outputs": [
    {
     "name": "stdout",
     "output_type": "stream",
     "text": [
      "5\n",
      "1\n",
      "2\n",
      "3\n",
      "4\n",
      "5\n"
     ]
    }
   ],
   "source": [
    "# Printing number from 1 to n\n",
    "n = int(input())\n",
    "i = 1\n",
    "for i in range(1,n+1):\n",
    "    print(i)"
   ]
  },
  {
   "cell_type": "code",
   "execution_count": 13,
   "id": "07a8aba0",
   "metadata": {},
   "outputs": [
    {
     "name": "stdout",
     "output_type": "stream",
     "text": [
      "12\n",
      "1\n",
      "12\n",
      "11\n",
      "10\n",
      "9\n",
      "8\n",
      "7\n",
      "6\n",
      "5\n",
      "4\n",
      "3\n",
      "2\n",
      "1\n"
     ]
    }
   ],
   "source": [
    "# Printing reverse from n to 1\n",
    "a = int(input())\n",
    "b = int(input())\n",
    "i = 1\n",
    "for i in range(a, b-1,-1):\n",
    "    print(i)"
   ]
  },
  {
   "cell_type": "code",
   "execution_count": 15,
   "id": "279dcc77",
   "metadata": {},
   "outputs": [
    {
     "name": "stdout",
     "output_type": "stream",
     "text": [
      "10\n",
      "3\n",
      "6\n",
      "9\n"
     ]
    }
   ],
   "source": [
    "#Printing multiple of 3 from 2 different method\n",
    "#method 1:\n",
    "n = int(input())\n",
    "i = 1\n",
    "for i in range(1, n+1):\n",
    "    if i % 3 == 0:\n",
    "        print(i)"
   ]
  },
  {
   "cell_type": "code",
   "execution_count": 24,
   "id": "1c76175b",
   "metadata": {},
   "outputs": [
    {
     "name": "stdout",
     "output_type": "stream",
     "text": [
      "2\n",
      "30\n",
      "3\n",
      "6\n",
      "9\n",
      "12\n",
      "15\n",
      "18\n",
      "21\n",
      "24\n",
      "27\n",
      "30\n"
     ]
    }
   ],
   "source": [
    "#method 2:\n",
    "# Predefing that fro where to start, for eg-- if n = 7, start from 9 by adding 2\n",
    "                                        #     if n = 8, start from 9 by adding 8\n",
    "                                            # if n = 9, then start from 9 only\n",
    "start = int(input())\n",
    "b = int(input())\n",
    "if start % 3 == 0:\n",
    "    start = a\n",
    "elif start % 3 == 1:\n",
    "    start += 2\n",
    "else:\n",
    "    start += 1\n",
    "for i in range(start, b+1, 3):\n",
    "    print(i)"
   ]
  },
  {
   "cell_type": "markdown",
   "id": "d44a90ec",
   "metadata": {},
   "source": [
    "## Is Prime number or not"
   ]
  },
  {
   "cell_type": "code",
   "execution_count": 49,
   "id": "9957e51b",
   "metadata": {},
   "outputs": [
    {
     "name": "stdout",
     "output_type": "stream",
     "text": [
      "5\n",
      "yes, it's a Prime\n"
     ]
    }
   ],
   "source": [
    "n = int(input())\n",
    "flag = False\n",
    "for i in range(2,n):\n",
    "    if n % i == 0:\n",
    "        flag = True\n",
    "    \n",
    "if flag == True:\n",
    "    print(\" No, it's not Prime\")\n",
    "else:\n",
    "    print(\"yes, it's a Prime\")"
   ]
  },
  {
   "cell_type": "code",
   "execution_count": 74,
   "id": "1c2d0096",
   "metadata": {},
   "outputs": [
    {
     "name": "stdout",
     "output_type": "stream",
     "text": [
      "4\n",
      "   1\n",
      "  232\n",
      " 34543\n",
      "4567654\n"
     ]
    }
   ],
   "source": [
    "n = int(input())\n",
    "for i in range(1,n+1):\n",
    "    j = 1\n",
    "    k = 1\n",
    "    while j <= n-i:\n",
    "        print(\" \", end=\"\")\n",
    "        j += 1\n",
    "    while k <= i:\n",
    "        print(i + k - 1, end=\"\")\n",
    "        k += 1\n",
    "    p = i - 1\n",
    "    while p >= 1:\n",
    "        print(i + p -1, end=\"\")\n",
    "        p -= 1\n",
    "    print()"
   ]
  },
  {
   "cell_type": "code",
   "execution_count": 94,
   "id": "1d3d5a9b",
   "metadata": {},
   "outputs": [
    {
     "name": "stdout",
     "output_type": "stream",
     "text": [
      "4\n",
      "   1\n",
      "  232\n",
      " 34543\n",
      "4567654\n"
     ]
    }
   ],
   "source": [
    "n = int(input())\n",
    "for i in range(1, n + 1):\n",
    "    for s in range(n-i):\n",
    "        print(\" \", end=\"\")\n",
    "    for j in range(i, 2 * i):\n",
    "        print(j, end=\"\")\n",
    "    for reverse  in range(2*i-2, i-1, -1):\n",
    "        print(reverse, end=\"\")\n",
    "    print()"
   ]
  },
  {
   "cell_type": "code",
   "execution_count": null,
   "id": "1822d91a",
   "metadata": {},
   "outputs": [],
   "source": []
  }
 ],
 "metadata": {
  "kernelspec": {
   "display_name": "Python 3 (ipykernel)",
   "language": "python",
   "name": "python3"
  },
  "language_info": {
   "codemirror_mode": {
    "name": "ipython",
    "version": 3
   },
   "file_extension": ".py",
   "mimetype": "text/x-python",
   "name": "python",
   "nbconvert_exporter": "python",
   "pygments_lexer": "ipython3",
   "version": "3.11.5"
  }
 },
 "nbformat": 4,
 "nbformat_minor": 5
}
