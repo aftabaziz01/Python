{
 "cells": [
  {
   "cell_type": "markdown",
   "id": "a24fdc4a",
   "metadata": {},
   "source": [
    "## Bolean Operator"
   ]
  },
  {
   "cell_type": "code",
   "execution_count": 1,
   "id": "a41b9cd0",
   "metadata": {},
   "outputs": [
    {
     "name": "stdout",
     "output_type": "stream",
     "text": [
      "<class 'str'>\n",
      "<class 'bool'>\n"
     ]
    },
    {
     "data": {
      "text/plain": [
       "'false'"
      ]
     },
     "execution_count": 1,
     "metadata": {},
     "output_type": "execute_result"
    }
   ],
   "source": [
    "a = True\n",
    "b = False\n",
    "            # True wiht capital 'T' is reserved for boolean small true and false be counted in 'str'.\n",
    "c = 'false'\n",
    "print(type(c))\n",
    "print(type(b))\n",
    "c"
   ]
  },
  {
   "cell_type": "markdown",
   "id": "536cce78",
   "metadata": {},
   "source": [
    "## Relational Operator"
   ]
  },
  {
   "cell_type": "code",
   "execution_count": 2,
   "id": "042dc451",
   "metadata": {},
   "outputs": [
    {
     "name": "stdout",
     "output_type": "stream",
     "text": [
      "False\n",
      "True\n",
      "False\n",
      "True\n",
      "False\n",
      "True\n"
     ]
    }
   ],
   "source": [
    "a = 10\n",
    "b = 20\n",
    "print(a>b)\n",
    "print(a<b)\n",
    "print(a>=b)\n",
    "print(a<=b)\n",
    "print(a==b)\n",
    "print(a!=b)"
   ]
  },
  {
   "cell_type": "markdown",
   "id": "56d54d02",
   "metadata": {},
   "source": [
    "## Logical Operators"
   ]
  },
  {
   "cell_type": "code",
   "execution_count": 3,
   "id": "4dd23387",
   "metadata": {},
   "outputs": [
    {
     "name": "stdout",
     "output_type": "stream",
     "text": [
      "False\n",
      "True\n",
      "True\n"
     ]
    }
   ],
   "source": [
    "c1 = a > 10\n",
    "c2 = b > 10\n",
    "r1 = c1 and c2\n",
    "r2 = c1 or c2\n",
    "r3 = not(c1)\n",
    "print(r1)\n",
    "print(r2)\n",
    "print(r3)"
   ]
  },
  {
   "cell_type": "markdown",
   "id": "afbe4ecf",
   "metadata": {},
   "source": [
    "## IF-ELSE"
   ]
  },
  {
   "cell_type": "code",
   "execution_count": 4,
   "id": "0b897440",
   "metadata": {},
   "outputs": [
    {
     "name": "stdout",
     "output_type": "stream",
     "text": [
      "I'm in if\n"
     ]
    }
   ],
   "source": [
    "a = True\n",
    "if a :\n",
    "    print(\"I'm in if\")\n",
    "else :\n",
    "    print(\"I'm in else\")"
   ]
  },
  {
   "cell_type": "code",
   "execution_count": 5,
   "id": "a50c2d3a",
   "metadata": {},
   "outputs": [
    {
     "name": "stdout",
     "output_type": "stream",
     "text": [
      "3\n",
      "n is odd\n"
     ]
    }
   ],
   "source": [
    "#find if n is \"odd\" or \"even\"\n",
    "n = int(input())\n",
    "r = n % 2 \n",
    "is_even = (r == 0)\n",
    "\n",
    "if is_even :\n",
    "    print(\"n is even\")\n",
    "else :\n",
    "    print(\"n is odd\")"
   ]
  },
  {
   "cell_type": "code",
   "execution_count": 6,
   "id": "7d14a308",
   "metadata": {},
   "outputs": [
    {
     "name": "stdout",
     "output_type": "stream",
     "text": [
      "6\n",
      "n is even\n"
     ]
    }
   ],
   "source": [
    "# same finding n is \"odd\" or \"even\" but without using too much line\n",
    "n = int(input())\n",
    "is_even = (n % 2 == 0)\n",
    "                # subtracted r = n % 2 wali line, instead merge with is_even line\n",
    "if is_even :\n",
    "    print(\"n is even\")\n",
    "else :\n",
    "    print(\"n is odd\")"
   ]
  },
  {
   "cell_type": "code",
   "execution_count": 7,
   "id": "3133ae48",
   "metadata": {},
   "outputs": [
    {
     "name": "stdout",
     "output_type": "stream",
     "text": [
      "9\n",
      "n is odd\n"
     ]
    }
   ],
   "source": [
    "# same finding n is \"odd\" or \"even\" but with less lines now\n",
    "n = int(input())\n",
    "# now instead introducing is_even putting conditions directly to the \"if\" line\n",
    "\n",
    "if n % 2 == 0 :\n",
    "    print(\"n is even\")\n",
    "else :\n",
    "    print(\"n is odd\")"
   ]
  },
  {
   "cell_type": "code",
   "execution_count": 8,
   "id": "259cb577",
   "metadata": {},
   "outputs": [
    {
     "name": "stdout",
     "output_type": "stream",
     "text": [
      "8\n",
      "n is even\n"
     ]
    }
   ],
   "source": [
    "# finding same but without using else condition and code will run perfecly fine\n",
    "n = int(input())\n",
    "\n",
    "if n % 2 == 0 :\n",
    "    print(\"n is even\")"
   ]
  },
  {
   "cell_type": "markdown",
   "id": "e152b65d",
   "metadata": {},
   "source": [
    "## Using Operation in IF-ELSE"
   ]
  },
  {
   "cell_type": "code",
   "execution_count": 9,
   "id": "bc1b0ee8",
   "metadata": {},
   "outputs": [
    {
     "name": "stdout",
     "output_type": "stream",
     "text": [
      "4\n",
      "14\n",
      "No they are not\n"
     ]
    }
   ],
   "source": [
    "a = int(input())\n",
    "b = int(input())\n",
    "\n",
    "if a>10 and b>10 :\n",
    "    print(\"both > 10\")\n",
    "else :\n",
    "    print(\"No they are not\")"
   ]
  },
  {
   "cell_type": "code",
   "execution_count": 10,
   "id": "09205b29",
   "metadata": {},
   "outputs": [
    {
     "name": "stdout",
     "output_type": "stream",
     "text": [
      "9\n",
      "a is not 7\n"
     ]
    }
   ],
   "source": [
    "a = int(input())\n",
    "if a == 7 :\n",
    "    print(\"a is 7\")\n",
    "else :\n",
    "    print(\"a is not 7\")"
   ]
  },
  {
   "cell_type": "markdown",
   "id": "c949612a",
   "metadata": {},
   "source": [
    "## Using Elif condition"
   ]
  },
  {
   "cell_type": "code",
   "execution_count": 11,
   "id": "3d019514",
   "metadata": {},
   "outputs": [
    {
     "name": "stdout",
     "output_type": "stream",
     "text": [
      "4\n",
      "2\n",
      "9\n",
      "9\n"
     ]
    }
   ],
   "source": [
    "# largest number\n",
    "a = int(input())\n",
    "b = int(input())\n",
    "c = int(input())\n",
    "\n",
    "if a >= b and a >= c:\n",
    "    print(a)\n",
    "elif b > a and b > c:\n",
    "    print(b)\n",
    "else :\n",
    "    print(c)"
   ]
  },
  {
   "cell_type": "code",
   "execution_count": 12,
   "id": "826a3abc",
   "metadata": {},
   "outputs": [
    {
     "name": "stdout",
     "output_type": "stream",
     "text": [
      "23\n",
      "red\n"
     ]
    }
   ],
   "source": [
    "n = int(input())\n",
    "\n",
    "if n >= 10:\n",
    "    print(\"red\")\n",
    "elif n >= 5:\n",
    "    print(\"Yellow\")\n",
    "else :\n",
    "    print(\"green\")"
   ]
  },
  {
   "cell_type": "code",
   "execution_count": 13,
   "id": "4e053218",
   "metadata": {},
   "outputs": [
    {
     "name": "stdout",
     "output_type": "stream",
     "text": [
      "12\n",
      "It is Positive\n"
     ]
    }
   ],
   "source": [
    "# finding either it is -ve or +ve\n",
    "n = int(input())\n",
    "\n",
    "if n > 0:\n",
    "    print(\"It is Positive\")\n",
    "elif n < 0:\n",
    "    print(\"It is negative\")\n",
    "else :\n",
    "    print(\"Zero\")"
   ]
  },
  {
   "cell_type": "markdown",
   "id": "cf12d8db",
   "metadata": {},
   "source": [
    "## Nested if-else"
   ]
  },
  {
   "cell_type": "code",
   "execution_count": 14,
   "id": "441bb52d",
   "metadata": {},
   "outputs": [
    {
     "name": "stdout",
     "output_type": "stream",
     "text": [
      "23\n",
      "n is odd\n"
     ]
    }
   ],
   "source": [
    "n = int(input())\n",
    "\n",
    "if n % 2 == 0:\n",
    "    print(\"n is even\")\n",
    "    if n == 0:\n",
    "        print(\"n is zero as well\")\n",
    "else :\n",
    "    print(\"n is odd\")"
   ]
  },
  {
   "cell_type": "code",
   "execution_count": 15,
   "id": "3796c572",
   "metadata": {},
   "outputs": [
    {
     "name": "stdout",
     "output_type": "stream",
     "text": [
      "12\n",
      "3\n",
      "2\n"
     ]
    }
   ],
   "source": [
    "n = int(input())\n",
    "m = int(input())\n",
    "\n",
    "if n % 2 == 0:\n",
    "    if m % 2 == 0:\n",
    "        print(1)\n",
    "    else :\n",
    "        print(2)    \n",
    "else :\n",
    "    print(3)"
   ]
  },
  {
   "cell_type": "markdown",
   "id": "39f72620",
   "metadata": {},
   "source": [
    "## While Loops"
   ]
  },
  {
   "cell_type": "code",
   "execution_count": 16,
   "id": "a9f44abd",
   "metadata": {},
   "outputs": [
    {
     "name": "stdout",
     "output_type": "stream",
     "text": [
      "1\n",
      "2\n",
      "3\n",
      "4\n",
      "5\n",
      "6\n",
      "7\n",
      "8\n",
      "9\n",
      "10\n"
     ]
    }
   ],
   "source": [
    "#printing first 10 natural number\n",
    "count = 1\n",
    "while count <= 10:\n",
    "    print(count)\n",
    "    count = count + 1"
   ]
  },
  {
   "cell_type": "code",
   "execution_count": 17,
   "id": "04e056fc",
   "metadata": {},
   "outputs": [
    {
     "name": "stdout",
     "output_type": "stream",
     "text": [
      "15\n"
     ]
    }
   ],
   "source": [
    "#finding sum of first 10 natural number\n",
    "count = 1\n",
    "num = 0\n",
    "while count <= 5:    \n",
    "    num = num + count\n",
    "    count = count + 1\n",
    "print(num)"
   ]
  },
  {
   "cell_type": "code",
   "execution_count": 18,
   "id": "dbcdd2f1",
   "metadata": {},
   "outputs": [
    {
     "name": "stdout",
     "output_type": "stream",
     "text": [
      "30\n"
     ]
    }
   ],
   "source": [
    "#finding sum of first even natural number\n",
    "count = 1\n",
    "num = 0\n",
    "while count <= 10:\n",
    "    if count % 2 == 0:\n",
    "        num = num + count\n",
    "    count = count + 1\n",
    "print(num)"
   ]
  },
  {
   "cell_type": "markdown",
   "id": "d67263d1",
   "metadata": {},
   "source": [
    "## Check Prime"
   ]
  },
  {
   "cell_type": "code",
   "execution_count": 19,
   "id": "f484a95a",
   "metadata": {},
   "outputs": [
    {
     "name": "stdout",
     "output_type": "stream",
     "text": [
      "90\n",
      "number is not Prime\n"
     ]
    }
   ],
   "source": [
    "#chcecking number is prime or not\n",
    "n = int(input())\n",
    "count = 2\n",
    "flag = False\n",
    "while count < n:\n",
    "    if n % count == 0: # dividing n with each count value 2,3,4,5,6,....n-1 to find either it is divisible by it or not.\n",
    "        flag = True\n",
    "    count = count + 1\n",
    "    \n",
    "if flag:\n",
    "    print(\"number is not Prime\")\n",
    "else:\n",
    "    print(\"number is Prime\")"
   ]
  },
  {
   "cell_type": "markdown",
   "id": "678266af",
   "metadata": {},
   "source": [
    "## Calculator"
   ]
  },
  {
   "cell_type": "code",
   "execution_count": 31,
   "id": "b1282480",
   "metadata": {},
   "outputs": [
    {
     "name": "stdout",
     "output_type": "stream",
     "text": [
      "Welcome to first working code of mine i.e CALCULATOR: \n",
      "please choose options to continue-\n",
      "Type '1' for Addition\n",
      "Type '2' for Substration\n",
      "Type '3' for Multiplication\n",
      "Type '4' for Division\n",
      "Type '5' for Modulo\n",
      "6\n",
      "Invalid Operation, please run again and choose option from given above.\n"
     ]
    }
   ],
   "source": [
    "print(\"Welcome to first working code of mine i.e CALCULATOR: \")\n",
    "print(\"please choose options to continue-\")\n",
    "print(\"Type '1' for Addition\")\n",
    "print(\"Type '2' for Substration\")\n",
    "print(\"Type '3' for Multiplication\")\n",
    "print(\"Type '4' for Division\")\n",
    "print(\"Type '5' for Modulo\")\n",
    "\n",
    "a = float(input())\n",
    "while a in range(1,5):\n",
    "    if a in range(1,5):\n",
    "        b = float(input(\"First number is: \"))\n",
    "        c = float(input(\"Second number is: \"))\n",
    "    if a == 1:\n",
    "        print(b + c)\n",
    "    elif a == 2:\n",
    "        print(b - c)\n",
    "    elif a == 3:\n",
    "        print(b * c)\n",
    "    elif a == 4:\n",
    "        print(b / c)\n",
    "    elif a == 5:\n",
    "        print(b % c)\n",
    "    next_calculation = input(\"Would you like to Continue? (yes/no): \")\n",
    "    if next_calculation == \"no\":\n",
    "     break\n",
    "    \n",
    "else:\n",
    "    print(\"Invalid Operation, please run again and choose option from given above.\")"
   ]
  },
  {
   "cell_type": "code",
   "execution_count": 27,
   "id": "98b8f907",
   "metadata": {},
   "outputs": [
    {
     "name": "stdout",
     "output_type": "stream",
     "text": [
      "Select operation.\n",
      "1.Add\n",
      "2.Subtract\n",
      "3.Multiply\n",
      "4.Divide\n",
      "Enter choice(1/2/3/4): 2\n",
      "Enter first number: 34\n",
      "Enter second number: 30\n",
      "34.0 - 30.0 = 4.0\n",
      "Let's do next calculation? (yes/no): no\n"
     ]
    }
   ],
   "source": [
    "# This function adds two numbers\n",
    "def add(x, y):\n",
    "    return x + y\n",
    "\n",
    "# This function subtracts two numbers\n",
    "def subtract(x, y):\n",
    "    return x - y\n",
    "\n",
    "# This function multiplies two numbers\n",
    "def multiply(x, y):\n",
    "    return x * y\n",
    "\n",
    "# This function divides two numbers\n",
    "def divide(x, y):\n",
    "    return x / y\n",
    "\n",
    "\n",
    "print(\"Select operation.\")\n",
    "print(\"1.Add\")\n",
    "print(\"2.Subtract\")\n",
    "print(\"3.Multiply\")\n",
    "print(\"4.Divide\")\n",
    "\n",
    "while True:\n",
    "    # take input from the user\n",
    "    choice = input(\"Enter choice(1/2/3/4): \")\n",
    "\n",
    "    # check if choice is one of the four options\n",
    "    if choice in ('1', '2', '3', '4'):\n",
    "        try:\n",
    "            num1 = float(input(\"Enter first number: \"))\n",
    "            num2 = float(input(\"Enter second number: \"))\n",
    "        except ValueError:\n",
    "            print(\"Invalid input. Please enter a number.\")\n",
    "            continue\n",
    "\n",
    "        if choice == '1':\n",
    "            print(num1, \"+\", num2, \"=\", add(num1, num2))\n",
    "\n",
    "        elif choice == '2':\n",
    "            print(num1, \"-\", num2, \"=\", subtract(num1, num2))\n",
    "\n",
    "        elif choice == '3':\n",
    "            print(num1, \"*\", num2, \"=\", multiply(num1, num2))\n",
    "\n",
    "        elif choice == '4':\n",
    "            print(num1, \"/\", num2, \"=\", divide(num1, num2))\n",
    "        \n",
    "        # check if user wants another calculation\n",
    "        # break the while loop if answer is no\n",
    "        next_calculation = input(\"Let's do next calculation? (yes/no): \")\n",
    "        if next_calculation == \"no\":\n",
    "          break\n",
    "    else:\n",
    "        print(\"Invalid Input\")"
   ]
  },
  {
   "cell_type": "code",
   "execution_count": null,
   "id": "e8176c73",
   "metadata": {},
   "outputs": [],
   "source": [
    "# MAKING CALCULATOR\n",
    "\n",
    "def add(x,y):\n",
    "    return x + y\n",
    "def substract(x,y):\n",
    "    return x - y\n",
    "def Multiplication(x,y):\n",
    "    return x * y\n",
    "def Division(x,y):\n",
    "    return x/y\n",
    "\n",
    "print(\"Calculator Started\")\n",
    "print(\"Choose the operator: \")\n",
    "print(\"1 for Addition\")\n",
    "print(\"2 for Substraction\")\n",
    "print(\"3 for Multiplication\")\n",
    "print(\"4 for Division\")\n",
    "\n",
    "while True:\n",
    "    choice = int(input(\"choose 1/2/3/4 \"))\n",
    "    if choice in ('1', '2', '3', '4'):\n",
    "        try:\n",
    "            num1 = float(input(\"Enter first number: \"))\n",
    "            num2 = float(input(\"Enter second number: \"))\n",
    "        except ValueError:\n",
    "            print(\"Invalid input. Please enter a number.\")\n",
    "            continue\n",
    "    if choice in ('1', '2', '3', '4'):\n",
    "        try:\n",
    "            num1 = float(input(\"First number: \"))\n",
    "            num2 = float(input(\"Second number: \"))\n",
    "        except:\n",
    "            print(\"Invalid input, please enter s number. \")\n",
    "            continue\n",
    "            print(num1, \"+\" ,num2, \"=\", add(num1,num2))"
   ]
  },
  {
   "cell_type": "code",
   "execution_count": null,
   "id": "06a402d1",
   "metadata": {},
   "outputs": [],
   "source": [
    "#here we just finished our Condition & loops Folder from mega file, on 22-02-2024, let's move on to Pattern it's 24-02-2024 (01-04 AM)"
   ]
  }
 ],
 "metadata": {
  "kernelspec": {
   "display_name": "Python 3 (ipykernel)",
   "language": "python",
   "name": "python3"
  },
  "language_info": {
   "codemirror_mode": {
    "name": "ipython",
    "version": 3
   },
   "file_extension": ".py",
   "mimetype": "text/x-python",
   "name": "python",
   "nbconvert_exporter": "python",
   "pygments_lexer": "ipython3",
   "version": "3.11.5"
  }
 },
 "nbformat": 4,
 "nbformat_minor": 5
}
