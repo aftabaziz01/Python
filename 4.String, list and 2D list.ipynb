{
 "cells": [
  {
   "cell_type": "markdown",
   "id": "71ded960",
   "metadata": {},
   "source": [
    "## Understanding String"
   ]
  },
  {
   "cell_type": "code",
   "execution_count": 1,
   "id": "c5eb355c",
   "metadata": {},
   "outputs": [],
   "source": [
    "a = \"abc def\""
   ]
  },
  {
   "cell_type": "code",
   "execution_count": 2,
   "id": "6d02e17a",
   "metadata": {},
   "outputs": [
    {
     "data": {
      "text/plain": [
       "str"
      ]
     },
     "execution_count": 2,
     "metadata": {},
     "output_type": "execute_result"
    }
   ],
   "source": [
    "type(a)"
   ]
  },
  {
   "cell_type": "code",
   "execution_count": 3,
   "id": "c33c4b73",
   "metadata": {},
   "outputs": [
    {
     "data": {
      "text/plain": [
       "str"
      ]
     },
     "execution_count": 3,
     "metadata": {},
     "output_type": "execute_result"
    }
   ],
   "source": [
    "b = 'abc def'\n",
    "type(b)"
   ]
  },
  {
   "cell_type": "code",
   "execution_count": 4,
   "id": "172237c4",
   "metadata": {},
   "outputs": [
    {
     "name": "stdout",
     "output_type": "stream",
     "text": [
      "a\n",
      "b\n",
      "c\n",
      " \n",
      "d\n",
      "e\n",
      "f\n"
     ]
    }
   ],
   "source": [
    "for i in a:\n",
    "    print(i)"
   ]
  },
  {
   "cell_type": "code",
   "execution_count": 5,
   "id": "0c729807",
   "metadata": {},
   "outputs": [
    {
     "data": {
      "text/plain": [
       "' '"
      ]
     },
     "execution_count": 5,
     "metadata": {},
     "output_type": "execute_result"
    }
   ],
   "source": [
    "a[3]"
   ]
  },
  {
   "cell_type": "code",
   "execution_count": 7,
   "id": "01755447",
   "metadata": {},
   "outputs": [
    {
     "data": {
      "text/plain": [
       "'c'"
      ]
     },
     "execution_count": 7,
     "metadata": {},
     "output_type": "execute_result"
    }
   ],
   "source": [
    "a[2]"
   ]
  },
  {
   "cell_type": "code",
   "execution_count": 8,
   "id": "fdc690f2",
   "metadata": {},
   "outputs": [
    {
     "data": {
      "text/plain": [
       "str"
      ]
     },
     "execution_count": 8,
     "metadata": {},
     "output_type": "execute_result"
    }
   ],
   "source": [
    "type(a[3])"
   ]
  },
  {
   "cell_type": "code",
   "execution_count": 9,
   "id": "351e6532",
   "metadata": {},
   "outputs": [
    {
     "data": {
      "text/plain": [
       "['This', 'is', 'my', 'pen']"
      ]
     },
     "execution_count": 9,
     "metadata": {},
     "output_type": "execute_result"
    }
   ],
   "source": [
    "a = \"This is my pen\"\n",
    "a.split()"
   ]
  },
  {
   "cell_type": "code",
   "execution_count": 11,
   "id": "1761852e",
   "metadata": {},
   "outputs": [
    {
     "data": {
      "text/plain": [
       "['Th', ' ', ' my pen']"
      ]
     },
     "execution_count": 11,
     "metadata": {},
     "output_type": "execute_result"
    }
   ],
   "source": [
    "a.split(\"is\")"
   ]
  },
  {
   "cell_type": "code",
   "execution_count": 12,
   "id": "76f846bb",
   "metadata": {},
   "outputs": [
    {
     "data": {
      "text/plain": [
       "'Thare are my pen'"
      ]
     },
     "execution_count": 12,
     "metadata": {},
     "output_type": "execute_result"
    }
   ],
   "source": [
    "a.replace(\"is\", \"are\")"
   ]
  },
  {
   "cell_type": "code",
   "execution_count": 14,
   "id": "ca09d8fd",
   "metadata": {},
   "outputs": [
    {
     "data": {
      "text/plain": [
       "8"
      ]
     },
     "execution_count": 14,
     "metadata": {},
     "output_type": "execute_result"
    }
   ],
   "source": [
    "a.find(\"my\")"
   ]
  },
  {
   "cell_type": "code",
   "execution_count": 15,
   "id": "f6188722",
   "metadata": {},
   "outputs": [
    {
     "data": {
      "text/plain": [
       "'this is my pen'"
      ]
     },
     "execution_count": 15,
     "metadata": {},
     "output_type": "execute_result"
    }
   ],
   "source": [
    "a.lower()"
   ]
  },
  {
   "cell_type": "code",
   "execution_count": 16,
   "id": "3d1d07b1",
   "metadata": {},
   "outputs": [
    {
     "data": {
      "text/plain": [
       "'THIS IS MY PEN'"
      ]
     },
     "execution_count": 16,
     "metadata": {},
     "output_type": "execute_result"
    }
   ],
   "source": [
    "a.upper()"
   ]
  },
  {
   "cell_type": "code",
   "execution_count": 17,
   "id": "761f6d91",
   "metadata": {},
   "outputs": [
    {
     "data": {
      "text/plain": [
       "False"
      ]
     },
     "execution_count": 17,
     "metadata": {},
     "output_type": "execute_result"
    }
   ],
   "source": [
    "a.islower()"
   ]
  },
  {
   "cell_type": "code",
   "execution_count": 18,
   "id": "45857019",
   "metadata": {},
   "outputs": [
    {
     "data": {
      "text/plain": [
       "False"
      ]
     },
     "execution_count": 18,
     "metadata": {},
     "output_type": "execute_result"
    }
   ],
   "source": [
    "a.isalpha()"
   ]
  },
  {
   "cell_type": "code",
   "execution_count": 23,
   "id": "47637b97",
   "metadata": {},
   "outputs": [
    {
     "data": {
      "text/plain": [
       "True"
      ]
     },
     "execution_count": 23,
     "metadata": {},
     "output_type": "execute_result"
    }
   ],
   "source": [
    "b = \"pen\"\n",
    "b.isalpha()"
   ]
  },
  {
   "cell_type": "code",
   "execution_count": 29,
   "id": "0ee6ad78",
   "metadata": {},
   "outputs": [
    {
     "data": {
      "text/plain": [
       "False"
      ]
     },
     "execution_count": 29,
     "metadata": {},
     "output_type": "execute_result"
    }
   ],
   "source": [
    "a.startswith(\"p\")"
   ]
  },
  {
   "cell_type": "code",
   "execution_count": 59,
   "id": "a32f4a6a",
   "metadata": {},
   "outputs": [
    {
     "name": "stdout",
     "output_type": "stream",
     "text": [
      "kjlax\n"
     ]
    },
    {
     "data": {
      "text/plain": [
       "'kjlay'"
      ]
     },
     "execution_count": 59,
     "metadata": {},
     "output_type": "execute_result"
    }
   ],
   "source": [
    "# replacing first occurance of a with b\n",
    "s = input()\n",
    "a = 'x'\n",
    "b = 'y'\n",
    "p = s.find(a)\n",
    "ans = s\n",
    "if p != -1:\n",
    "    ans = ans[:p] + b + ans[p+1:]\n",
    "ans"
   ]
  },
  {
   "cell_type": "code",
   "execution_count": 57,
   "id": "9c51c7cf",
   "metadata": {},
   "outputs": [
    {
     "name": "stdout",
     "output_type": "stream",
     "text": [
      "lksamfxkmdxklmxlkxmx\n"
     ]
    },
    {
     "data": {
      "text/plain": [
       "'lksamfykmdyklmylkymy'"
      ]
     },
     "execution_count": 57,
     "metadata": {},
     "output_type": "execute_result"
    }
   ],
   "source": [
    "# replace all occurance of a with b\n",
    "s = input()\n",
    "a = \"x\"\n",
    "b = \"y\"\n",
    "p = s.find(a)\n",
    "ans = s\n",
    "for i in range(0, len(ans)):\n",
    "    if ans[i] == a:\n",
    "        ans = ans[:i] + b + ans[i+1:]\n",
    "ans"
   ]
  },
  {
   "cell_type": "markdown",
   "id": "a14890d9",
   "metadata": {},
   "source": [
    "## Palindrome Checking"
   ]
  },
  {
   "cell_type": "code",
   "execution_count": 54,
   "id": "3c5852aa",
   "metadata": {},
   "outputs": [
    {
     "name": "stdout",
     "output_type": "stream",
     "text": [
      "asssaaa\n",
      "no, it's not an palindrome\n"
     ]
    }
   ],
   "source": [
    "n = input()\n",
    "#flag = False\n",
    "\n",
    "for i in range(0,len(n)):\n",
    "    s = n[::-1] \n",
    "if s == n:\n",
    "    print(\"Yes it is Palindrome\")\n",
    "else:\n",
    "    print(\"no, it's not an palindrome\")"
   ]
  },
  {
   "cell_type": "markdown",
   "id": "6e2d5c04",
   "metadata": {},
   "source": [
    "# Learing LIST"
   ]
  },
  {
   "cell_type": "code",
   "execution_count": 32,
   "id": "eae814b4",
   "metadata": {},
   "outputs": [
    {
     "name": "stdout",
     "output_type": "stream",
     "text": [
      "12\n"
     ]
    },
    {
     "data": {
      "text/plain": [
       "[1, 2, 3, 4, 6, 12]"
      ]
     },
     "execution_count": 32,
     "metadata": {},
     "output_type": "execute_result"
    }
   ],
   "source": [
    "# let me print all divisors of a number\n",
    "# append() is used to add any character at the end of the list\n",
    "\n",
    "n = int(input())\n",
    "ans = []\n",
    "for i in range(1, n//2+1):\n",
    "    if n % i == 0:\n",
    "        ans.append(i)\n",
    "ans.append(n)\n",
    "ans"
   ]
  },
  {
   "cell_type": "markdown",
   "id": "0e101768",
   "metadata": {},
   "source": [
    "## Learning different ways to Take Inputs"
   ]
  },
  {
   "cell_type": "code",
   "execution_count": 10,
   "id": "82687a68",
   "metadata": {},
   "outputs": [
    {
     "name": "stdout",
     "output_type": "stream",
     "text": [
      "5\n",
      "1\n",
      "2\n",
      "3\n",
      "4\n",
      "5\n"
     ]
    },
    {
     "data": {
      "text/plain": [
       "[1, 2, 3, 4, 5]"
      ]
     },
     "execution_count": 10,
     "metadata": {},
     "output_type": "execute_result"
    }
   ],
   "source": [
    "n = int(input())\n",
    "a = []\n",
    "for i in range(n):\n",
    "    re = int(input())\n",
    "    a.append(re)\n",
    "a"
   ]
  },
  {
   "cell_type": "code",
   "execution_count": 53,
   "id": "908cd6a8",
   "metadata": {},
   "outputs": [
    {
     "name": "stdout",
     "output_type": "stream",
     "text": [
      "Enter the decimal number : 43\n",
      "1.Printing binary number: 0b101011\n",
      "2.printing only binary without ob: 101011\n"
     ]
    },
    {
     "data": {
      "text/plain": [
       "4"
      ]
     },
     "execution_count": 53,
     "metadata": {},
     "output_type": "execute_result"
    }
   ],
   "source": [
    "n = int(input(\"Enter the decimal number : \"))\n",
    "x = bin(n)\n",
    "print(\"1.Printing binary number: \", end=\"\")\n",
    "print(x)\n",
    "s1 = x[2:]\n",
    "print(\"2.printing only binary without ob: \", end=\"\")\n",
    "print(s1)\n",
    "s1.count('1')"
   ]
  },
  {
   "cell_type": "code",
   "execution_count": 48,
   "id": "222080f5",
   "metadata": {},
   "outputs": [
    {
     "name": "stdout",
     "output_type": "stream",
     "text": [
      "Enter the decimal number: 45\n",
      "Binary is this: 101101\n"
     ]
    },
    {
     "data": {
      "text/plain": [
       "4"
      ]
     },
     "execution_count": 48,
     "metadata": {},
     "output_type": "execute_result"
    }
   ],
   "source": [
    "# simplest and easiest way to solve above question is\n",
    "\n",
    "n = int(input(\"Enter the decimal number: \"))\n",
    "\n",
    "def countBits(n):\n",
    "    return bin(n).replace(\"0b\",\"\").count('1')  #bin fun() convert binary to decimal. replace fun() replace char.\n",
    "                                               #count() fun. counts the number of times str appear\n",
    "x = bin(n)\n",
    "print(\"Binary is this:\",x[2:])\n",
    "countBits(n)"
   ]
  },
  {
   "cell_type": "markdown",
   "id": "a5001bff",
   "metadata": {},
   "source": [
    "### Taking input as an integer list"
   ]
  },
  {
   "cell_type": "code",
   "execution_count": 60,
   "id": "e25c4b7c",
   "metadata": {},
   "outputs": [
    {
     "name": "stdout",
     "output_type": "stream",
     "text": [
      "1 2 3 4 5\n"
     ]
    },
    {
     "data": {
      "text/plain": [
       "[1, 2, 3, 4, 5]"
      ]
     },
     "execution_count": 60,
     "metadata": {},
     "output_type": "execute_result"
    }
   ],
   "source": [
    "list = input()\n",
    "l = list.split()\n",
    "a = []\n",
    "for i in l:\n",
    "    a.append(int(i))\n",
    "a"
   ]
  },
  {
   "cell_type": "code",
   "execution_count": 63,
   "id": "66efcb5b",
   "metadata": {},
   "outputs": [
    {
     "name": "stdout",
     "output_type": "stream",
     "text": [
      "1 2 3 4 5\n"
     ]
    },
    {
     "data": {
      "text/plain": [
       "[1, 2, 3, 4, 5]"
      ]
     },
     "execution_count": 63,
     "metadata": {},
     "output_type": "execute_result"
    }
   ],
   "source": [
    "# Doing same thing just above but in 2 line\n",
    "n = input().split()\n",
    "a = [int(s) for s in n]\n",
    "a"
   ]
  },
  {
   "cell_type": "code",
   "execution_count": 65,
   "id": "d556cbe5",
   "metadata": {},
   "outputs": [
    {
     "name": "stdout",
     "output_type": "stream",
     "text": [
      "1 2 3 4 5\n"
     ]
    },
    {
     "data": {
      "text/plain": [
       "[1, 2, 3, 4, 5]"
      ]
     },
     "execution_count": 65,
     "metadata": {},
     "output_type": "execute_result"
    }
   ],
   "source": [
    "# now doing the same thing, but in just 1 ilne\n",
    "a = [int(s) for s in input().split()]\n",
    "a"
   ]
  },
  {
   "cell_type": "markdown",
   "id": "83bda766",
   "metadata": {},
   "source": [
    "### Taking input by defining how many input, and then taking input"
   ]
  },
  {
   "cell_type": "code",
   "execution_count": 66,
   "id": "3e214a40",
   "metadata": {},
   "outputs": [
    {
     "name": "stdout",
     "output_type": "stream",
     "text": [
      "5\n",
      "1 2 3 4 5\n"
     ]
    },
    {
     "data": {
      "text/plain": [
       "[1, 2, 3, 4, 5]"
      ]
     },
     "execution_count": 66,
     "metadata": {},
     "output_type": "execute_result"
    }
   ],
   "source": [
    "size = int(input())\n",
    "a = [int(s) for s in input().split()]\n",
    "a"
   ]
  },
  {
   "cell_type": "markdown",
   "id": "7de102d8",
   "metadata": {},
   "source": [
    "### Taking input in same line, as taking Input"
   ]
  },
  {
   "cell_type": "code",
   "execution_count": 67,
   "id": "c4611ebd",
   "metadata": {},
   "outputs": [
    {
     "name": "stdout",
     "output_type": "stream",
     "text": [
      "5 1 2 3 4 5\n"
     ]
    },
    {
     "data": {
      "text/plain": [
       "[1, 2, 3, 4, 5]"
      ]
     },
     "execution_count": 67,
     "metadata": {},
     "output_type": "execute_result"
    }
   ],
   "source": [
    "a = [int(s) for s in input().split()]\n",
    "a = a[1:]     # just taking input in same line and then just avoidingn it by slicing it\n",
    "a"
   ]
  },
  {
   "cell_type": "markdown",
   "id": "6d5113d6",
   "metadata": {},
   "source": [
    "## Printing the difference between even and odd"
   ]
  },
  {
   "cell_type": "code",
   "execution_count": 69,
   "id": "3a874d57",
   "metadata": {},
   "outputs": [
    {
     "name": "stdout",
     "output_type": "stream",
     "text": [
      "1 2 3 4 5 6 7 8 9\n"
     ]
    },
    {
     "data": {
      "text/plain": [
       "[1, 2, 3, 4, 5, 6, 7, 8, 9]"
      ]
     },
     "execution_count": 69,
     "metadata": {},
     "output_type": "execute_result"
    }
   ],
   "source": [
    "l = [int(s) for s in input().split()]\n",
    "l"
   ]
  },
  {
   "cell_type": "code",
   "execution_count": 73,
   "id": "eec73516",
   "metadata": {},
   "outputs": [
    {
     "name": "stdout",
     "output_type": "stream",
     "text": [
      "-5\n"
     ]
    }
   ],
   "source": [
    "even = 0\n",
    "odd = 0\n",
    "for i in l:\n",
    "    if i % 2 == 0:\n",
    "        even += i\n",
    "    else:\n",
    "        odd += i\n",
    "print(even - odd)"
   ]
  },
  {
   "cell_type": "markdown",
   "id": "2bd38865",
   "metadata": {},
   "source": [
    "## 2D List Multidimensional List"
   ]
  },
  {
   "cell_type": "code",
   "execution_count": 11,
   "id": "cef84659",
   "metadata": {},
   "outputs": [
    {
     "name": "stdout",
     "output_type": "stream",
     "text": [
      "Enter the number of m and n: 2 3\n",
      "1 2 3\n",
      "4 5 6\n"
     ]
    },
    {
     "data": {
      "text/plain": [
       "[[1, 2, 3], [4, 5, 6]]"
      ]
     },
     "execution_count": 11,
     "metadata": {},
     "output_type": "execute_result"
    }
   ],
   "source": [
    "# taking input in a list form to make 2-D list/multi-Dimensional list\n",
    "sizes = input(\"Enter the number of m and n: \").split()\n",
    "m = int(sizes[0])\n",
    "n = int(sizes[1])\n",
    "l = []\n",
    "for i in range(m):\n",
    "    next_row = [int(i) for i in input().split()]\n",
    "    l.append(next_row)\n",
    "l"
   ]
  },
  {
   "cell_type": "code",
   "execution_count": 19,
   "id": "efae5290",
   "metadata": {},
   "outputs": [
    {
     "name": "stdout",
     "output_type": "stream",
     "text": [
      "3 4\n",
      "1\n",
      "2\n",
      "3\n",
      "4\n",
      "5\n",
      "6\n",
      "7\n",
      "8\n",
      "9\n",
      "10\n",
      "11\n",
      "12\n"
     ]
    },
    {
     "data": {
      "text/plain": [
       "[[1, 2, 3, 4], [5, 6, 7, 8], [9, 10, 11, 12]]"
      ]
     },
     "execution_count": 19,
     "metadata": {},
     "output_type": "execute_result"
    }
   ],
   "source": [
    "# taking each input in different line and then making it in list form.\n",
    "sizes = input().split()\n",
    "m = int(sizes[0])\n",
    "n = int(sizes[1])\n",
    "l = []\n",
    "for i in range(m):\n",
    "    next_row = []\n",
    "    for i in range(n):\n",
    "        element = int(input())\n",
    "        next_row.append(element)\n",
    "    l.append(next_row)\n",
    "l"
   ]
  },
  {
   "cell_type": "code",
   "execution_count": 35,
   "id": "795e1d0b",
   "metadata": {},
   "outputs": [
    {
     "name": "stdout",
     "output_type": "stream",
     "text": [
      "3 4\n",
      "1 2 3 4 5 6 7 8 9 10 11 12\n"
     ]
    },
    {
     "data": {
      "text/plain": [
       "[[1, 2, 3, 4], [5, 6, 7, 8], [9, 10, 11, 12]]"
      ]
     },
     "execution_count": 35,
     "metadata": {},
     "output_type": "execute_result"
    }
   ],
   "source": [
    "# taking all input in same line and then dividing using slicing\n",
    "sizes = input().split()\n",
    "m = int(sizes[0])\n",
    "n = int(sizes[1])\n",
    "l_1d = [int(i) for i in input().split()]\n",
    "l = []\n",
    "for i in range(m):\n",
    "    start_index = n * i\n",
    "    end_index = n * (i + 1)\n",
    "    next_row = l_1d[start_index:end_index]\n",
    "    l.append(next_row)\n",
    "l"
   ]
  },
  {
   "cell_type": "code",
   "execution_count": 38,
   "id": "a2e1b773",
   "metadata": {},
   "outputs": [
    {
     "data": {
      "text/plain": [
       "[1, 4, 3, [3, 32]]"
      ]
     },
     "execution_count": 38,
     "metadata": {},
     "output_type": "execute_result"
    }
   ],
   "source": [
    "a = [1,2,3,[3,4]]\n",
    "a[3][1] = 32\n",
    "a[1]= 4\n",
    "a"
   ]
  },
  {
   "cell_type": "markdown",
   "id": "4cd141e1",
   "metadata": {},
   "source": [
    "## Assignment questions"
   ]
  },
  {
   "cell_type": "markdown",
   "id": "17c1a37e",
   "metadata": {},
   "source": [
    "### 1) Column-wise sum"
   ]
  },
  {
   "cell_type": "code",
   "execution_count": 1,
   "id": "bf66c7f8",
   "metadata": {},
   "outputs": [],
   "source": [
    "def print_column_wise_sum(a):\n",
    "    m = len(a)\n",
    "    if m == 0:\n",
    "        return\n",
    "    n = len(a[0])\n",
    "    for j in range(n):\n",
    "        sum_j = 0\n",
    "        for i in range(m):\n",
    "            sum_j = sum_j + a[i][j]\n",
    "        print(sum_j)\n",
    "a = [[j for j in range(5)] for i in range(10)]"
   ]
  },
  {
   "cell_type": "code",
   "execution_count": 2,
   "id": "60d981e2",
   "metadata": {},
   "outputs": [
    {
     "name": "stdout",
     "output_type": "stream",
     "text": [
      "[[0, 1, 2, 3, 4], [0, 1, 2, 3, 4], [0, 1, 2, 3, 4], [0, 1, 2, 3, 4], [0, 1, 2, 3, 4], [0, 1, 2, 3, 4], [0, 1, 2, 3, 4], [0, 1, 2, 3, 4], [0, 1, 2, 3, 4], [0, 1, 2, 3, 4]]\n"
     ]
    }
   ],
   "source": [
    "print(a)"
   ]
  },
  {
   "cell_type": "code",
   "execution_count": 30,
   "id": "a1f3d983",
   "metadata": {},
   "outputs": [
    {
     "name": "stdout",
     "output_type": "stream",
     "text": [
      "0\n",
      "10\n",
      "20\n",
      "30\n",
      "40\n"
     ]
    }
   ],
   "source": [
    "print_column_wise_sum(a)"
   ]
  },
  {
   "cell_type": "markdown",
   "id": "db760e6f",
   "metadata": {},
   "source": [
    "## 2) Row-wise sum"
   ]
  },
  {
   "cell_type": "code",
   "execution_count": 3,
   "id": "fc3e00f6",
   "metadata": {},
   "outputs": [],
   "source": [
    "# now printing row wise sum\n",
    "def print_row_wise_sum(a):\n",
    "    m = len(a)\n",
    "    if m == 0:\n",
    "        return\n",
    "    n = len(a[0])\n",
    "    for i in range(m):\n",
    "        sum_j = 0\n",
    "        for j in range(n):\n",
    "            sum_j = sum_j + a[i][j]\n",
    "        print(sum_j)\n",
    "a = [[j+1 for j in range(5)] for i in range(10)]"
   ]
  },
  {
   "cell_type": "code",
   "execution_count": 4,
   "id": "5b4dad2f",
   "metadata": {},
   "outputs": [
    {
     "name": "stdout",
     "output_type": "stream",
     "text": [
      "[[1, 2, 3, 4, 5], [1, 2, 3, 4, 5], [1, 2, 3, 4, 5], [1, 2, 3, 4, 5], [1, 2, 3, 4, 5], [1, 2, 3, 4, 5], [1, 2, 3, 4, 5], [1, 2, 3, 4, 5], [1, 2, 3, 4, 5], [1, 2, 3, 4, 5]]\n",
      "15\n",
      "15\n",
      "15\n",
      "15\n",
      "15\n",
      "15\n",
      "15\n",
      "15\n",
      "15\n",
      "15\n"
     ]
    }
   ],
   "source": [
    "print(a)\n",
    "print_row_wise_sum(a)"
   ]
  },
  {
   "cell_type": "markdown",
   "id": "1eda9b43",
   "metadata": {},
   "source": [
    "## 3) Printing elements in wave format"
   ]
  },
  {
   "cell_type": "code",
   "execution_count": 6,
   "id": "c5f3fa8e",
   "metadata": {},
   "outputs": [
    {
     "name": "stdout",
     "output_type": "stream",
     "text": [
      "1 5 9 13 17 18 14 10 6 2 3 7 11 15 19 20 16 12 8 4 "
     ]
    }
   ],
   "source": [
    "m = 5\n",
    "n = 4\n",
    "\n",
    "# Form for a given matrix\n",
    "def WavePrint(m, n, arr):\n",
    "\n",
    "    # Loop to traverse matrix\n",
    "    for j in range(n):\n",
    "        \n",
    "        # If the current column\n",
    "        # is even indexed, print\n",
    "        # it in forward order\n",
    "        if (j % 2 == 0):\n",
    "            for i in range(m):\n",
    "                print(arr[i][j], end= \" \")\n",
    "\n",
    "        else:\n",
    "            for i in range(m - 1, -1, -1):\n",
    "                print(arr[i][j], end= \" \")\n",
    "arr = [[1, 2, 3, 4], [5, 6, 7, 8], [9, 10, 11, 12], [13, 14, 15, 16], [17, 18, 19, 20]]\n",
    "WavePrint(m, n, arr)"
   ]
  },
  {
   "cell_type": "code",
   "execution_count": 57,
   "id": "dcc49e89",
   "metadata": {},
   "outputs": [
    {
     "name": "stdout",
     "output_type": "stream",
     "text": [
      "Enter the number of m and n: 3 4\n",
      "1 2 3 4\n",
      "5 6 7 8\n",
      "9 10 11 12\n",
      "[[1, 2, 3, 4], [5, 6, 7, 8], [9, 10, 11, 12]]\n",
      "1 5 9 10 6 2 3 7 11 12 8 4 "
     ]
    }
   ],
   "source": [
    "# printing elements in wave form, and taking input from our side\n",
    "sizes = input(\"Enter the number of m and n: \").split()\n",
    "m = int(sizes[0])\n",
    "n = int(sizes[1])\n",
    "arr = []\n",
    "for i in range(m):\n",
    "    next_row = [int(i) for i in input().split()]\n",
    "    arr.append(next_row)\n",
    "\n",
    "for j in range(n):\n",
    "    if(j % 2 == 0):\n",
    "        for i in range(m):\n",
    "            print(arr[i][j], end= \" \")\n",
    "    else:\n",
    "        for i in range(m-1, -1, -1):\n",
    "            print(arr[i][j], end= \" \")"
   ]
  },
  {
   "cell_type": "markdown",
   "id": "71b1224c",
   "metadata": {},
   "source": [
    "## 4) Removing Duplicate from consecutive places and printing single"
   ]
  },
  {
   "cell_type": "code",
   "execution_count": 1,
   "id": "a952a3c0",
   "metadata": {},
   "outputs": [
    {
     "name": "stdout",
     "output_type": "stream",
     "text": [
      "aaasa\n",
      "aaasa\n"
     ]
    }
   ],
   "source": [
    "S = input().split()\n",
    "def delete_consecutive_duplicate_strings(S):\n",
    "    i = 0\n",
    "    j = 0\n",
    "    new_string = ''\n",
    "    while(j<len(S)):\n",
    "        if S[i] == S[j]:\n",
    "            j += 1\n",
    "        elif S[j] != S[i] or j == [len(S-1)]:\n",
    "            new_string += S[i]\n",
    "            j += 1\n",
    "        i = j\n",
    "        new_string += S[j-1]\n",
    "    return new_string\n",
    "print(delete_consecutive_duplicate_strings(S))"
   ]
  },
  {
   "cell_type": "markdown",
   "id": "7421cc90",
   "metadata": {},
   "source": [
    "## 5) reversing each word in a string"
   ]
  },
  {
   "cell_type": "code",
   "execution_count": 125,
   "id": "dd61baa0",
   "metadata": {},
   "outputs": [
    {
     "name": "stdout",
     "output_type": "stream",
     "text": [
      "BATFA ZIZA\n",
      "AFTAB AZIZ\n"
     ]
    }
   ],
   "source": [
    "def reversewordSentence(Sentence):\n",
    "    words = Sentence.split(\" \")\n",
    "    newWords = [word[::-1] for word in words]\n",
    "    newSentence = \" \".join(newWords)\n",
    "    return newSentence\n",
    "\n",
    "Sentence = input()\n",
    "print(reversewordSentence(Sentence))"
   ]
  },
  {
   "cell_type": "code",
   "execution_count": 150,
   "id": "4e769693",
   "metadata": {},
   "outputs": [
    {
     "name": "stdout",
     "output_type": "stream",
     "text": [
      "sihT si ym ,ecnetnes ekam ti esrever\n"
     ]
    }
   ],
   "source": [
    "def reverse_function(Sentence):\n",
    "    return ' '.join(word[::-1] for word in Sentence.split(\" \"))\n",
    "Sentence = \"This is my sentence, make it reverse\"\n",
    "print(reverse_function(Sentence))"
   ]
  },
  {
   "cell_type": "markdown",
   "id": "690effbc",
   "metadata": {},
   "source": [
    "## Highest number of character"
   ]
  },
  {
   "cell_type": "code",
   "execution_count": 151,
   "id": "16a477ef",
   "metadata": {},
   "outputs": [
    {
     "ename": "IndentationError",
     "evalue": "expected an indented block after 'while' statement on line 6 (811824987.py, line 9)",
     "output_type": "error",
     "traceback": [
      "\u001b[1;36m  Cell \u001b[1;32mIn[151], line 9\u001b[1;36m\u001b[0m\n\u001b[1;33m    return\u001b[0m\n\u001b[1;37m    ^\u001b[0m\n\u001b[1;31mIndentationError\u001b[0m\u001b[1;31m:\u001b[0m expected an indented block after 'while' statement on line 6\n"
     ]
    }
   ],
   "source": [
    "def highest_time(word):\n",
    "    count = 0\n",
    "    i = 0\n",
    "    j = 0\n",
    "    \n",
    "    while (j<len(words)):\n",
    "        \n",
    "    \n",
    "    return \n",
    "words = input()\n",
    "print(highest_time(word))"
   ]
  },
  {
   "cell_type": "code",
   "execution_count": 175,
   "id": "3aedfd8d",
   "metadata": {},
   "outputs": [
    {
     "name": "stdout",
     "output_type": "stream",
     "text": [
      "aba\n",
      "False\n"
     ]
    }
   ],
   "source": [
    "def arrayStringsAreEqual(self, word1, word2):\n",
    "    for i in range(len(word1)):\n",
    "        word1 = \n",
    "    print(word1)\n",
    "    for j in range(len(word2)):\n",
    "        \" \".join(word2)\n",
    "    if word1 == word2:\n",
    "        return True\n",
    "    else:\n",
    "        return False\n",
    "    \n",
    "word1 = [\"ab\", \"c\"]\n",
    "word2 = [\"a\", \"bc\"]\n",
    "print(arrayStringsAreEqual(a, word1, word2))"
   ]
  },
  {
   "cell_type": "code",
   "execution_count": 97,
   "id": "d8439e07",
   "metadata": {},
   "outputs": [
    {
     "name": "stdout",
     "output_type": "stream",
     "text": [
      "kar bhai kuch, ye kya ho rha hai?\n",
      "kar bhai kuch, ye kya ho rha hai?\n",
      "kar bhai kuch, ye kya ho rha hai?\n",
      "chalo kuch to ho rha hai bhai...\n",
      "a\n",
      "chalo kuch to ho rha hai bhai...\n",
      "ab\n",
      "chalo kuch to ho rha hai bhai...\n",
      "abc\n",
      "abcd\n"
     ]
    }
   ],
   "source": [
    "# removing consecutive repeated number\n",
    "def removing_consecutive_alphabet(string):\n",
    "    i = 0\n",
    "    j = 0\n",
    "    s = ''\n",
    "    while(j<len(string)):\n",
    "        if (string[i] == string[j]):\n",
    "            j += 1\n",
    "            print(\"kar bhai kuch, ye kya ho rha hai?\")\n",
    "        elif (string[j] != string[i]) or j == (len(string)-1):\n",
    "            print(\"chalo kuch to ho rha hai bhai...\")\n",
    "            s = s + string[i]\n",
    "            print(s)\n",
    "            i = j\n",
    "            j += 1\n",
    "        else:\n",
    "            print(\"kuch nahi ho rha bhai\")\n",
    "    s = s + string[j-1]\n",
    "    return s\n",
    "\n",
    "string = \"aaabcd\"\n",
    "print(removing_consecutive_alphabet(string))"
   ]
  },
  {
   "cell_type": "markdown",
   "id": "926d0853",
   "metadata": {},
   "source": [
    "## Checking Palindrome"
   ]
  },
  {
   "cell_type": "code",
   "execution_count": 59,
   "id": "b4157cb0",
   "metadata": {},
   "outputs": [
    {
     "name": "stdout",
     "output_type": "stream",
     "text": [
      "assa\n",
      "Yes, it is Palindrome\n"
     ]
    }
   ],
   "source": [
    "# just trying palindrome question again\n",
    "s = input()\n",
    "new_s = s[::-1]\n",
    "if s == new_s:\n",
    "    print(\"Yes, it is Palindrome\")\n",
    "else:\n",
    "    print(\"No, it is not Palindrome\")\n",
    "            "
   ]
  },
  {
   "cell_type": "markdown",
   "id": "ac6c12ce",
   "metadata": {},
   "source": [
    "## Reversing each word in a Sentence"
   ]
  },
  {
   "cell_type": "code",
   "execution_count": 64,
   "id": "64889fd4",
   "metadata": {},
   "outputs": [
    {
     "name": "stdout",
     "output_type": "stream",
     "text": [
      "gnirtS iah !ey\n"
     ]
    }
   ],
   "source": [
    "def reverse_each_word(w):\n",
    "    return \" \".join(nw[::-1] for nw in w.split())\n",
    "    \n",
    "w = 'String hai ye!'\n",
    "print(reverse_each_word(w))"
   ]
  },
  {
   "cell_type": "code",
   "execution_count": 109,
   "id": "8342ecaa",
   "metadata": {},
   "outputs": [
    {
     "name": "stdout",
     "output_type": "stream",
     "text": [
      "3 4\n"
     ]
    },
    {
     "data": {
      "text/plain": [
       "[[0, 1, 2, 3], [0, 1, 2, 3], [0, 1, 2, 3]]"
      ]
     },
     "execution_count": 109,
     "metadata": {},
     "output_type": "execute_result"
    }
   ],
   "source": [
    "## Wave Print\n",
    "def wave_print(a):\n",
    "    \n",
    "    \n",
    "    \n",
    "    \n",
    "size = input().split()\n",
    "m = int(size[0])\n",
    "n = int(size[1])\n",
    "a = [[j for j in range(n)] for i in range(m)]\n",
    "a"
   ]
  },
  {
   "cell_type": "code",
   "execution_count": null,
   "id": "7d977bd5",
   "metadata": {},
   "outputs": [],
   "source": []
  },
  {
   "cell_type": "code",
   "execution_count": null,
   "id": "e1320e7b",
   "metadata": {},
   "outputs": [],
   "source": []
  },
  {
   "cell_type": "code",
   "execution_count": null,
   "id": "fddf25fa",
   "metadata": {},
   "outputs": [],
   "source": []
  },
  {
   "cell_type": "code",
   "execution_count": null,
   "id": "fb5324e9",
   "metadata": {},
   "outputs": [],
   "source": []
  },
  {
   "cell_type": "code",
   "execution_count": null,
   "id": "10d08001",
   "metadata": {},
   "outputs": [],
   "source": []
  },
  {
   "cell_type": "code",
   "execution_count": null,
   "id": "9539f234",
   "metadata": {},
   "outputs": [],
   "source": []
  },
  {
   "cell_type": "code",
   "execution_count": null,
   "id": "1a5f3685",
   "metadata": {},
   "outputs": [],
   "source": []
  },
  {
   "cell_type": "code",
   "execution_count": 1,
   "id": "ddeb11d1",
   "metadata": {},
   "outputs": [],
   "source": [
    "def swapAlternate(s, n) :\n",
    "        for i in range(0,n-1,2):\n",
    "            temp=s[i]\n",
    "            s[i]=s[i+1]\n",
    "            s[i+1]=temp\n",
    "        return s"
   ]
  },
  {
   "cell_type": "code",
   "execution_count": 10,
   "id": "f8f5a3db",
   "metadata": {},
   "outputs": [
    {
     "name": "stdout",
     "output_type": "stream",
     "text": [
      "[5, 3, 3, 1, 5, 6]\n"
     ]
    }
   ],
   "source": [
    "s = [3,5,1,3,5,6]\n",
    "n = 4\n",
    "print(swapAlternate(s, n))"
   ]
  },
  {
   "cell_type": "markdown",
   "id": "077ab1b1",
   "metadata": {},
   "source": [
    "#### "
   ]
  },
  {
   "cell_type": "code",
   "execution_count": null,
   "id": "bf02dace",
   "metadata": {},
   "outputs": [],
   "source": []
  }
 ],
 "metadata": {
  "kernelspec": {
   "display_name": "Python 3 (ipykernel)",
   "language": "python",
   "name": "python3"
  },
  "language_info": {
   "codemirror_mode": {
    "name": "ipython",
    "version": 3
   },
   "file_extension": ".py",
   "mimetype": "text/x-python",
   "name": "python",
   "nbconvert_exporter": "python",
   "pygments_lexer": "ipython3",
   "version": "3.11.5"
  }
 },
 "nbformat": 4,
 "nbformat_minor": 5
}
